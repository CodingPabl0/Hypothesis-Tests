{
 "cells": [
  {
   "cell_type": "markdown",
   "metadata": {},
   "source": [
    "from scipy.stats import ttest_1samp\n",
    "import numpy as np"
   ]
  },
  {
   "cell_type": "code",
   "execution_count": 63,
   "metadata": {},
   "outputs": [
    {
     "name": "stdout",
     "output_type": "stream",
     "text": [
      "[[ 657.  601.  601. 1859.]\n",
      " [ 395.  411.  387. 1193.]\n",
      " [ 418.  428.  415. 1261.]\n",
      " ...\n",
      " [ 427.  430.  423. 1280.]\n",
      " [ 399.  403.  405. 1207.]\n",
      " [ 588.  560.  568. 1716.]]\n"
     ]
    }
   ],
   "source": [
    "# Here the columns are Math, Reading, & Writing\n",
    "\n",
    "Scores=np.genfromtxt(\"ScoreSamp.csv\", delimiter=',', skip_header=1)\n",
    "print(Scores)"
   ]
  },
  {
   "cell_type": "code",
   "execution_count": 64,
   "metadata": {},
   "outputs": [
    {
     "name": "stdout",
     "output_type": "stream",
     "text": [
      "432.944\n"
     ]
    }
   ],
   "source": [
    "#Lets find the mean of the Math section of the SAT from all the schools in the dataset\n",
    "Math_mean=np.mean(Scores[:,0])\n",
    "print(Math_mean)"
   ]
  },
  {
   "cell_type": "markdown",
   "metadata": {},
   "source": [
    "# Randomly selecting 70 schools I calculated the mean to be 435 in my sample Data for the Math Section"
   ]
  },
  {
   "cell_type": "code",
   "execution_count": 65,
   "metadata": {},
   "outputs": [],
   "source": [
    "# Here is our test\n",
    "\n",
    "# Null: The true average SAT math score in New York is equal to 433 for the Math portion\n",
    "\n",
    "# Alternative: The true average SAT math score in New York is not 433 for the math portion"
   ]
  },
  {
   "cell_type": "code",
   "execution_count": 66,
   "metadata": {},
   "outputs": [
    {
     "name": "stdout",
     "output_type": "stream",
     "text": [
      "p-value for Math Section:\n",
      "0.2076861102347651\n"
     ]
    },
    {
     "data": {
      "image/png": "[encoded data removed]",
      "text/plain": [
       "<Figure size 432x288 with 1 Axes>"
      ]
     },
     "metadata": {
      "needs_background": "light"
     },
     "output_type": "display_data"
    }
   ],
   "source": [
    "# How much do these averages differ? \n",
    "import matplotlib.pyplot as plt\n",
    "from scipy.stats import ttest_1samp\n",
    "\n",
    "## 1 sample t test\n",
    "\n",
    "tstat, pval = ttest_1samp(Scores[0], 433)\n",
    "print(\"p-value for Math Section:\")\n",
    "print(pval)\n",
    "\n",
    "plt.hist(Scores[:,0])\n",
    "plt.show()"
   ]
  },
  {
   "cell_type": "markdown",
   "metadata": {},
   "source": [
    "# We conclude that the Altenative is rejected."
   ]
  }
 ],
 "metadata": {
  "kernelspec": {
   "display_name": "Python 3",
   "language": "python",
   "name": "python3"
  }
 },
 "nbformat": 4,
 "nbformat_minor": 4
}
